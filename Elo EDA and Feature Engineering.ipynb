{
 "cells": [
  {
   "cell_type": "markdown",
   "metadata": {},
   "source": [
    "# ELO\n",
    "one of the largest payment brands in Brazil, has built partnerships with **merchants** in order to **offer promotions or \n",
    "discounts** to **cardholders**\n",
    " \n",
    "In this dataset we can see clients who use Elo and their transactions. We need to predict the loyalty score for each card_id.\n",
    "\n",
    "###### elo wants to predict how happy client will be, given such offering (promotion), only by knowing his historical transactions"
   ]
  },
  {
   "cell_type": "code",
   "execution_count": 170,
   "metadata": {},
   "outputs": [],
   "source": [
    "import pandas as pd\n",
    "import numpy as np\n",
    "import seaborn as sns\n",
    "import matplotlib.pyplot as plt\n",
    "\n",
    "import lightgbm as lgb\n",
    "from sklearn.model_selection import KFold\n",
    "from sklearn.metrics import mean_squared_error\n",
    "from sklearn.linear_model import Ridge, LogisticRegression\n",
    "from sklearn.preprocessing import StandardScaler\n",
    "\n",
    "import datetime\n",
    "import time\n",
    "\n",
    "import gc\n",
    "\n",
    "import warnings\n",
    "warnings.filterwarnings(\"ignore\")\n",
    "plt.style.use('ggplot')\n",
    "\n",
    "%matplotlib inline"
   ]
  },
  {
   "cell_type": "markdown",
   "metadata": {},
   "source": [
    "### Data Description"
   ]
  },
  {
   "cell_type": "code",
   "execution_count": 2,
   "metadata": {},
   "outputs": [
    {
     "data": {
      "text/html": [
       "<div>\n",
       "<style scoped>\n",
       "    .dataframe tbody tr th:only-of-type {\n",
       "        vertical-align: middle;\n",
       "    }\n",
       "\n",
       "    .dataframe tbody tr th {\n",
       "        vertical-align: top;\n",
       "    }\n",
       "\n",
       "    .dataframe thead th {\n",
       "        text-align: right;\n",
       "    }\n",
       "</style>\n",
       "<table border=\"1\" class=\"dataframe\">\n",
       "  <thead>\n",
       "    <tr style=\"text-align: right;\">\n",
       "      <th></th>\n",
       "      <th>Columns</th>\n",
       "      <th>Description</th>\n",
       "    </tr>\n",
       "  </thead>\n",
       "  <tbody>\n",
       "    <tr>\n",
       "      <th>0</th>\n",
       "      <td>card_id</td>\n",
       "      <td>Unique card identifier</td>\n",
       "    </tr>\n",
       "    <tr>\n",
       "      <th>1</th>\n",
       "      <td>first_active_month</td>\n",
       "      <td>'YYYY-MM', month of first purchase</td>\n",
       "    </tr>\n",
       "    <tr>\n",
       "      <th>2</th>\n",
       "      <td>feature_1</td>\n",
       "      <td>Anonymized card categorical feature</td>\n",
       "    </tr>\n",
       "    <tr>\n",
       "      <th>3</th>\n",
       "      <td>feature_2</td>\n",
       "      <td>Anonymized card categorical feature</td>\n",
       "    </tr>\n",
       "    <tr>\n",
       "      <th>4</th>\n",
       "      <td>feature_3</td>\n",
       "      <td>Anonymized card categorical feature</td>\n",
       "    </tr>\n",
       "    <tr>\n",
       "      <th>5</th>\n",
       "      <td>target</td>\n",
       "      <td>Loyalty numerical score calculated 2 months af...</td>\n",
       "    </tr>\n",
       "  </tbody>\n",
       "</table>\n",
       "</div>"
      ],
      "text/plain": [
       "              Columns                                        Description\n",
       "0             card_id                             Unique card identifier\n",
       "1  first_active_month                 'YYYY-MM', month of first purchase\n",
       "2           feature_1                Anonymized card categorical feature\n",
       "3           feature_2                Anonymized card categorical feature\n",
       "4           feature_3                Anonymized card categorical feature\n",
       "5              target  Loyalty numerical score calculated 2 months af..."
      ]
     },
     "execution_count": 2,
     "metadata": {},
     "output_type": "execute_result"
    }
   ],
   "source": [
    "pd.read_excel('Data_Dictionary.xlsx', sheet_name='train', skiprows=2)"
   ]
  },
  {
   "cell_type": "code",
   "execution_count": 3,
   "metadata": {},
   "outputs": [],
   "source": [
    "train = pd.read_csv('train.csv')"
   ]
  },
  {
   "cell_type": "code",
   "execution_count": 4,
   "metadata": {},
   "outputs": [
    {
     "data": {
      "text/html": [
       "<div>\n",
       "<style scoped>\n",
       "    .dataframe tbody tr th:only-of-type {\n",
       "        vertical-align: middle;\n",
       "    }\n",
       "\n",
       "    .dataframe tbody tr th {\n",
       "        vertical-align: top;\n",
       "    }\n",
       "\n",
       "    .dataframe thead th {\n",
       "        text-align: right;\n",
       "    }\n",
       "</style>\n",
       "<table border=\"1\" class=\"dataframe\">\n",
       "  <thead>\n",
       "    <tr style=\"text-align: right;\">\n",
       "      <th></th>\n",
       "      <th>first_active_month</th>\n",
       "      <th>card_id</th>\n",
       "      <th>feature_1</th>\n",
       "      <th>feature_2</th>\n",
       "      <th>feature_3</th>\n",
       "      <th>target</th>\n",
       "    </tr>\n",
       "  </thead>\n",
       "  <tbody>\n",
       "    <tr>\n",
       "      <th>0</th>\n",
       "      <td>2017-06</td>\n",
       "      <td>C_ID_92a2005557</td>\n",
       "      <td>5</td>\n",
       "      <td>2</td>\n",
       "      <td>1</td>\n",
       "      <td>-0.820283</td>\n",
       "    </tr>\n",
       "    <tr>\n",
       "      <th>1</th>\n",
       "      <td>2017-01</td>\n",
       "      <td>C_ID_3d0044924f</td>\n",
       "      <td>4</td>\n",
       "      <td>1</td>\n",
       "      <td>0</td>\n",
       "      <td>0.392913</td>\n",
       "    </tr>\n",
       "    <tr>\n",
       "      <th>2</th>\n",
       "      <td>2016-08</td>\n",
       "      <td>C_ID_d639edf6cd</td>\n",
       "      <td>2</td>\n",
       "      <td>2</td>\n",
       "      <td>0</td>\n",
       "      <td>0.688056</td>\n",
       "    </tr>\n",
       "    <tr>\n",
       "      <th>3</th>\n",
       "      <td>2017-09</td>\n",
       "      <td>C_ID_186d6a6901</td>\n",
       "      <td>4</td>\n",
       "      <td>3</td>\n",
       "      <td>0</td>\n",
       "      <td>0.142495</td>\n",
       "    </tr>\n",
       "    <tr>\n",
       "      <th>4</th>\n",
       "      <td>2017-11</td>\n",
       "      <td>C_ID_cdbd2c0db2</td>\n",
       "      <td>1</td>\n",
       "      <td>3</td>\n",
       "      <td>0</td>\n",
       "      <td>-0.159749</td>\n",
       "    </tr>\n",
       "  </tbody>\n",
       "</table>\n",
       "</div>"
      ],
      "text/plain": [
       "  first_active_month          card_id  feature_1  feature_2  feature_3  \\\n",
       "0            2017-06  C_ID_92a2005557          5          2          1   \n",
       "1            2017-01  C_ID_3d0044924f          4          1          0   \n",
       "2            2016-08  C_ID_d639edf6cd          2          2          0   \n",
       "3            2017-09  C_ID_186d6a6901          4          3          0   \n",
       "4            2017-11  C_ID_cdbd2c0db2          1          3          0   \n",
       "\n",
       "     target  \n",
       "0 -0.820283  \n",
       "1  0.392913  \n",
       "2  0.688056  \n",
       "3  0.142495  \n",
       "4 -0.159749  "
      ]
     },
     "execution_count": 4,
     "metadata": {},
     "output_type": "execute_result"
    }
   ],
   "source": [
    "train.head()"
   ]
  },
  {
   "cell_type": "markdown",
   "metadata": {},
   "source": [
    "We got **Card_ID, Date, 3 anonymized features and target**"
   ]
  },
  {
   "cell_type": "markdown",
   "metadata": {},
   "source": [
    "Target Variable is some **metric of Quality**,<br>\n",
    "How good promotions that we send to the client fit his needs"
   ]
  },
  {
   "cell_type": "markdown",
   "metadata": {},
   "source": [
    "####  Exploring the anonymized features"
   ]
  },
  {
   "cell_type": "code",
   "execution_count": 5,
   "metadata": {},
   "outputs": [
    {
     "data": {
      "image/png": "[encoded data removed]",
      "text/plain": [
       "<Figure size 1080x504 with 3 Axes>"
      ]
     },
     "metadata": {
      "needs_background": "light"
     },
     "output_type": "display_data"
    }
   ],
   "source": [
    "fig, ax = plt.subplots(1, 3, figsize=(15,7), ) \n",
    "sns.violinplot(x='feature_1', y='target', data=train, ax= ax[0])\n",
    "sns.violinplot(x='feature_2', y='target', data=train, ax= ax[1])\n",
    "sns.violinplot(x='feature_3', y='target', data=train, ax= ax[2])\n",
    "fig.suptitle('Features Distributions', fontsize=20)\n",
    "plt.show()"
   ]
  },
  {
   "cell_type": "code",
   "execution_count": 6,
   "metadata": {},
   "outputs": [
    {
     "data": {
      "image/png": "[encoded data removed]",
      "text/plain": [
       "<Figure size 1080x504 with 3 Axes>"
      ]
     },
     "metadata": {
      "needs_background": "light"
     },
     "output_type": "display_data"
    }
   ],
   "source": [
    "fig, ax = plt.subplots(1, 3, figsize=(15,7), ) \n",
    "sns.countplot(train['feature_1'], ax= ax[0])\n",
    "sns.countplot(train['feature_2'], ax= ax[1])\n",
    "sns.countplot(train['feature_3'], ax= ax[2])\n",
    "fig.suptitle('Features Countplot', fontsize=20)\n",
    "plt.show()"
   ]
  },
  {
   "cell_type": "markdown",
   "metadata": {},
   "source": [
    "Although They differ in their frequencies .... still have same ***Distribution***, <br> <br> \n",
    "**Hypothesis :** these anonymized features are most likely related to the offer being served to the customer in some way ...\n",
    "##### Note how all features have **mean centered at Zero** which indicates that such Normalization has been applied to such data."
   ]
  },
  {
   "cell_type": "markdown",
   "metadata": {},
   "source": [
    "###  Target"
   ]
  },
  {
   "cell_type": "code",
   "execution_count": 7,
   "metadata": {
    "scrolled": false
   },
   "outputs": [
    {
     "data": {
      "image/png": "[encoded data removed]",
      "text/plain": [
       "<Figure size 1080x504 with 1 Axes>"
      ]
     },
     "metadata": {
      "needs_background": "light"
     },
     "output_type": "display_data"
    }
   ],
   "source": [
    "plt.figure(figsize=(15,7)) \n",
    "sns.distplot(train.target)\n",
    "plt.show()"
   ]
  },
  {
   "cell_type": "code",
   "execution_count": 8,
   "metadata": {},
   "outputs": [
    {
     "data": {
      "text/plain": [
       "count    201917.000000\n",
       "mean         -0.393636\n",
       "std           3.850500\n",
       "min         -33.219281\n",
       "25%          -0.883110\n",
       "50%          -0.023437\n",
       "75%           0.765453\n",
       "max          17.965068\n",
       "Name: target, dtype: float64"
      ]
     },
     "execution_count": 8,
     "metadata": {},
     "output_type": "execute_result"
    }
   ],
   "source": [
    "train['target'].describe()"
   ]
  },
  {
   "cell_type": "markdown",
   "metadata": {},
   "source": [
    "##### Distribution is highly confident with zero centered and low standard deviation, more to notice how some values are far away beyond -30"
   ]
  },
  {
   "cell_type": "code",
   "execution_count": 9,
   "metadata": {},
   "outputs": [
    {
     "name": "stdout",
     "output_type": "stream",
     "text": [
      "There exist 2,207 being treated as outliers,All with same value -33.21928095\n"
     ]
    }
   ],
   "source": [
    "print(\"There exist {:,} being treated as outliers,All with same value {}\".format(len(train[train.target < -30]), train.loc[train.target < -30, 'target'].head(1).values[0]))"
   ]
  },
  {
   "cell_type": "markdown",
   "metadata": {},
   "source": [
    "After some thoughts about the target variable ... it seems that it was obfuscated with `log2` transformation <br> \n",
    "which make such theory be more practical ... <br>\n",
    "`\n",
    "np.log2(x + 0.000_000_000_1) = -33.219280948873624\n",
    "`<br>\n",
    "which is the exact same number. at `x = 0`<br><br>\n",
    "So summarizing what we got, <br>\n",
    "#### target variable is a ratio of number of promotions used by user divided by total number of promotions sent to such user\n",
    "which is then tranformed by `log2` with bias `1e-10` to hide such information.<br>\n",
    "`x = 0` indicate that such customer didn't use any of the promotions recommended for him, may be not suitable promotion for him.\n"
   ]
  },
  {
   "cell_type": "markdown",
   "metadata": {},
   "source": [
    "### Outliers"
   ]
  },
  {
   "cell_type": "markdown",
   "metadata": {},
   "source": [
    "After knowing that these outliers are actually values that could occur also in test set ... which means that we should predict how to **predict them .. rather than neglecting** ... From the elo overview ...\n",
    "\n",
    ">In this competition, Kagglers will develop algorithms to identify and\n",
    "serve the most relevant opportunities to individuals, by\n",
    "uncovering signal in customer loyalty. Your input will improve\n",
    "customers’ lives and <b style='color:red'>help Elo reduce unwanted campaigns</b>, to create\n",
    "the right experience for customers.\n",
    "\n",
    "Therefore ... these **Outliers** are not Outliers .... they are real (existing) values which Elo is concerned about. <br>\n",
    "Neglecting them, The Model will not provide anything useful for **Elo's busniess**\n"
   ]
  },
  {
   "cell_type": "code",
   "execution_count": 10,
   "metadata": {},
   "outputs": [],
   "source": [
    "otr = -33.21928095\n",
    "otr_df = train[train['target'] == otr]"
   ]
  },
  {
   "cell_type": "code",
   "execution_count": 11,
   "metadata": {},
   "outputs": [
    {
     "data": {
      "image/png": "[encoded data removed]",
      "text/plain": [
       "<Figure size 1080x504 with 3 Axes>"
      ]
     },
     "metadata": {
      "needs_background": "light"
     },
     "output_type": "display_data"
    }
   ],
   "source": [
    "fig, ax = plt.subplots(1, 3, figsize=(15,7), ) \n",
    "sns.countplot(otr_df['feature_1'], ax= ax[0])\n",
    "sns.countplot(otr_df['feature_2'], ax= ax[1])\n",
    "sns.countplot(otr_df['feature_3'], ax= ax[2])\n",
    "fig.suptitle('Outlier Features Countplot', fontsize=20)\n",
    "plt.show()"
   ]
  },
  {
   "cell_type": "markdown",
   "metadata": {},
   "source": [
    "the Outlier anonymized features countplots are almost identical to the whole data countplot ... which means such features are not good indicator to determine the 'outliered customer behavior' ... may be after merging the merchants' data sets going to see some insights ..."
   ]
  },
  {
   "cell_type": "code",
   "execution_count": 12,
   "metadata": {},
   "outputs": [
    {
     "data": {
      "text/html": [
       "<div>\n",
       "<style scoped>\n",
       "    .dataframe tbody tr th:only-of-type {\n",
       "        vertical-align: middle;\n",
       "    }\n",
       "\n",
       "    .dataframe tbody tr th {\n",
       "        vertical-align: top;\n",
       "    }\n",
       "\n",
       "    .dataframe thead th {\n",
       "        text-align: right;\n",
       "    }\n",
       "</style>\n",
       "<table border=\"1\" class=\"dataframe\">\n",
       "  <thead>\n",
       "    <tr style=\"text-align: right;\">\n",
       "      <th></th>\n",
       "      <th>Columns</th>\n",
       "      <th>Description</th>\n",
       "    </tr>\n",
       "  </thead>\n",
       "  <tbody>\n",
       "    <tr>\n",
       "      <th>0</th>\n",
       "      <td>card_id</td>\n",
       "      <td>Card identifier</td>\n",
       "    </tr>\n",
       "    <tr>\n",
       "      <th>1</th>\n",
       "      <td>month_lag</td>\n",
       "      <td>month lag to reference date</td>\n",
       "    </tr>\n",
       "    <tr>\n",
       "      <th>2</th>\n",
       "      <td>purchase_date</td>\n",
       "      <td>Purchase date</td>\n",
       "    </tr>\n",
       "    <tr>\n",
       "      <th>3</th>\n",
       "      <td>authorized_flag</td>\n",
       "      <td>Y' if approved, 'N' if denied</td>\n",
       "    </tr>\n",
       "    <tr>\n",
       "      <th>4</th>\n",
       "      <td>category_3</td>\n",
       "      <td>anonymized category</td>\n",
       "    </tr>\n",
       "    <tr>\n",
       "      <th>5</th>\n",
       "      <td>installments</td>\n",
       "      <td>number of installments of purchase</td>\n",
       "    </tr>\n",
       "    <tr>\n",
       "      <th>6</th>\n",
       "      <td>category_1</td>\n",
       "      <td>anonymized category</td>\n",
       "    </tr>\n",
       "    <tr>\n",
       "      <th>7</th>\n",
       "      <td>merchant_category_id</td>\n",
       "      <td>Merchant category identifier (anonymized )</td>\n",
       "    </tr>\n",
       "    <tr>\n",
       "      <th>8</th>\n",
       "      <td>subsector_id</td>\n",
       "      <td>Merchant category group identifier (anonymized )</td>\n",
       "    </tr>\n",
       "    <tr>\n",
       "      <th>9</th>\n",
       "      <td>merchant_id</td>\n",
       "      <td>Merchant identifier (anonymized)</td>\n",
       "    </tr>\n",
       "    <tr>\n",
       "      <th>10</th>\n",
       "      <td>purchase_amount</td>\n",
       "      <td>Normalized purchase amount</td>\n",
       "    </tr>\n",
       "    <tr>\n",
       "      <th>11</th>\n",
       "      <td>city_id</td>\n",
       "      <td>City identifier (anonymized )</td>\n",
       "    </tr>\n",
       "    <tr>\n",
       "      <th>12</th>\n",
       "      <td>state_id</td>\n",
       "      <td>State identifier (anonymized )</td>\n",
       "    </tr>\n",
       "    <tr>\n",
       "      <th>13</th>\n",
       "      <td>category_2</td>\n",
       "      <td>anonymized category</td>\n",
       "    </tr>\n",
       "  </tbody>\n",
       "</table>\n",
       "</div>"
      ],
      "text/plain": [
       "                 Columns                                       Description\n",
       "0                card_id                                   Card identifier\n",
       "1              month_lag                       month lag to reference date\n",
       "2          purchase_date                                     Purchase date\n",
       "3        authorized_flag                     Y' if approved, 'N' if denied\n",
       "4             category_3                               anonymized category\n",
       "5           installments                number of installments of purchase\n",
       "6             category_1                               anonymized category\n",
       "7   merchant_category_id        Merchant category identifier (anonymized )\n",
       "8           subsector_id  Merchant category group identifier (anonymized )\n",
       "9            merchant_id                  Merchant identifier (anonymized)\n",
       "10       purchase_amount                        Normalized purchase amount\n",
       "11               city_id                     City identifier (anonymized )\n",
       "12              state_id                    State identifier (anonymized )\n",
       "13            category_2                               anonymized category"
      ]
     },
     "execution_count": 12,
     "metadata": {},
     "output_type": "execute_result"
    }
   ],
   "source": [
    "pd.read_excel('Data_Dictionary.xlsx', sheet_name='new_merchant_period', skiprows=2)"
   ]
  },
  {
   "cell_type": "code",
   "execution_count": 13,
   "metadata": {},
   "outputs": [],
   "source": [
    "new_merch = pd.read_csv('new_merchant_transactions.csv', parse_dates=['purchase_date'])\n",
    "hist_merch = pd.read_csv('historical_transactions.csv', parse_dates=['purchase_date'])"
   ]
  },
  {
   "cell_type": "code",
   "execution_count": 14,
   "metadata": {},
   "outputs": [
    {
     "name": "stdout",
     "output_type": "stream",
     "text": [
      "Historical merchant data with 29,112,361 observation\n"
     ]
    }
   ],
   "source": [
    "print(\"Historical merchant data with {:,} observation\".format(hist_merch.shape[0]))"
   ]
  },
  {
   "cell_type": "code",
   "execution_count": 15,
   "metadata": {},
   "outputs": [
    {
     "name": "stdout",
     "output_type": "stream",
     "text": [
      "New merchant data with 1,963,031 observation\n"
     ]
    }
   ],
   "source": [
    "print(\"New merchant data with {:,} observation\".format(new_merch.shape[0]))"
   ]
  },
  {
   "cell_type": "code",
   "execution_count": 16,
   "metadata": {},
   "outputs": [
    {
     "data": {
      "text/html": [
       "<div>\n",
       "<style scoped>\n",
       "    .dataframe tbody tr th:only-of-type {\n",
       "        vertical-align: middle;\n",
       "    }\n",
       "\n",
       "    .dataframe tbody tr th {\n",
       "        vertical-align: top;\n",
       "    }\n",
       "\n",
       "    .dataframe thead th {\n",
       "        text-align: right;\n",
       "    }\n",
       "</style>\n",
       "<table border=\"1\" class=\"dataframe\">\n",
       "  <thead>\n",
       "    <tr style=\"text-align: right;\">\n",
       "      <th></th>\n",
       "      <th>Customers</th>\n",
       "      <th>Transactions</th>\n",
       "      <th>merchants</th>\n",
       "    </tr>\n",
       "  </thead>\n",
       "  <tbody>\n",
       "    <tr>\n",
       "      <th>N</th>\n",
       "      <td>325,540</td>\n",
       "      <td>16,395,300</td>\n",
       "      <td>326,311</td>\n",
       "    </tr>\n",
       "  </tbody>\n",
       "</table>\n",
       "</div>"
      ],
      "text/plain": [
       "  Customers Transactions merchants\n",
       "N   325,540   16,395,300   326,311"
      ]
     },
     "execution_count": 16,
     "metadata": {},
     "output_type": "execute_result"
    }
   ],
   "source": [
    "pd.DataFrame([{\n",
    "    'Customers': f'{hist_merch.card_id.nunique():,}',\n",
    "    'merchants': f'{hist_merch.merchant_id.nunique():,}',\n",
    "    'Transactions': f'{hist_merch.purchase_date.nunique():,}',\n",
    "}]).rename(index = {0: \"N\"})"
   ]
  },
  {
   "cell_type": "code",
   "execution_count": 17,
   "metadata": {},
   "outputs": [
    {
     "data": {
      "text/html": [
       "<div>\n",
       "<style scoped>\n",
       "    .dataframe tbody tr th:only-of-type {\n",
       "        vertical-align: middle;\n",
       "    }\n",
       "\n",
       "    .dataframe tbody tr th {\n",
       "        vertical-align: top;\n",
       "    }\n",
       "\n",
       "    .dataframe thead th {\n",
       "        text-align: right;\n",
       "    }\n",
       "</style>\n",
       "<table border=\"1\" class=\"dataframe\">\n",
       "  <thead>\n",
       "    <tr style=\"text-align: right;\">\n",
       "      <th></th>\n",
       "      <th>Customers</th>\n",
       "      <th>Transactions</th>\n",
       "      <th>merchants</th>\n",
       "    </tr>\n",
       "  </thead>\n",
       "  <tbody>\n",
       "    <tr>\n",
       "      <th>N</th>\n",
       "      <td>290,001</td>\n",
       "      <td>1,667,025</td>\n",
       "      <td>226,129</td>\n",
       "    </tr>\n",
       "  </tbody>\n",
       "</table>\n",
       "</div>"
      ],
      "text/plain": [
       "  Customers Transactions merchants\n",
       "N   290,001    1,667,025   226,129"
      ]
     },
     "execution_count": 17,
     "metadata": {},
     "output_type": "execute_result"
    }
   ],
   "source": [
    "pd.DataFrame([{\n",
    "    'Customers': f'{new_merch.card_id.nunique():,}',\n",
    "    'merchants': f'{new_merch.merchant_id.nunique():,}',\n",
    "    'Transactions': f'{new_merch.purchase_date.nunique():,}',\n",
    "}]).rename(index = {0: \"N\"})"
   ]
  },
  {
   "cell_type": "code",
   "execution_count": 18,
   "metadata": {},
   "outputs": [
    {
     "data": {
      "text/html": [
       "<div>\n",
       "<style scoped>\n",
       "    .dataframe tbody tr th:only-of-type {\n",
       "        vertical-align: middle;\n",
       "    }\n",
       "\n",
       "    .dataframe tbody tr th {\n",
       "        vertical-align: top;\n",
       "    }\n",
       "\n",
       "    .dataframe thead th {\n",
       "        text-align: right;\n",
       "    }\n",
       "</style>\n",
       "<table border=\"1\" class=\"dataframe\">\n",
       "  <thead>\n",
       "    <tr style=\"text-align: right;\">\n",
       "      <th></th>\n",
       "      <th>authorized_flag</th>\n",
       "      <th>card_id</th>\n",
       "      <th>city_id</th>\n",
       "      <th>category_1</th>\n",
       "      <th>installments</th>\n",
       "      <th>category_3</th>\n",
       "      <th>merchant_category_id</th>\n",
       "      <th>merchant_id</th>\n",
       "      <th>month_lag</th>\n",
       "      <th>purchase_amount</th>\n",
       "      <th>purchase_date</th>\n",
       "      <th>category_2</th>\n",
       "      <th>state_id</th>\n",
       "      <th>subsector_id</th>\n",
       "    </tr>\n",
       "  </thead>\n",
       "  <tbody>\n",
       "    <tr>\n",
       "      <th>0</th>\n",
       "      <td>Y</td>\n",
       "      <td>C_ID_415bb3a509</td>\n",
       "      <td>107</td>\n",
       "      <td>N</td>\n",
       "      <td>1</td>\n",
       "      <td>B</td>\n",
       "      <td>307</td>\n",
       "      <td>M_ID_b0c793002c</td>\n",
       "      <td>1</td>\n",
       "      <td>-0.557574</td>\n",
       "      <td>2018-03-11 14:57:36</td>\n",
       "      <td>1.0</td>\n",
       "      <td>9</td>\n",
       "      <td>19</td>\n",
       "    </tr>\n",
       "    <tr>\n",
       "      <th>1</th>\n",
       "      <td>Y</td>\n",
       "      <td>C_ID_415bb3a509</td>\n",
       "      <td>140</td>\n",
       "      <td>N</td>\n",
       "      <td>1</td>\n",
       "      <td>B</td>\n",
       "      <td>307</td>\n",
       "      <td>M_ID_88920c89e8</td>\n",
       "      <td>1</td>\n",
       "      <td>-0.569580</td>\n",
       "      <td>2018-03-19 18:53:37</td>\n",
       "      <td>1.0</td>\n",
       "      <td>9</td>\n",
       "      <td>19</td>\n",
       "    </tr>\n",
       "    <tr>\n",
       "      <th>2</th>\n",
       "      <td>Y</td>\n",
       "      <td>C_ID_415bb3a509</td>\n",
       "      <td>330</td>\n",
       "      <td>N</td>\n",
       "      <td>1</td>\n",
       "      <td>B</td>\n",
       "      <td>507</td>\n",
       "      <td>M_ID_ad5237ef6b</td>\n",
       "      <td>2</td>\n",
       "      <td>-0.551037</td>\n",
       "      <td>2018-04-26 14:08:44</td>\n",
       "      <td>1.0</td>\n",
       "      <td>9</td>\n",
       "      <td>14</td>\n",
       "    </tr>\n",
       "    <tr>\n",
       "      <th>3</th>\n",
       "      <td>Y</td>\n",
       "      <td>C_ID_415bb3a509</td>\n",
       "      <td>-1</td>\n",
       "      <td>Y</td>\n",
       "      <td>1</td>\n",
       "      <td>B</td>\n",
       "      <td>661</td>\n",
       "      <td>M_ID_9e84cda3b1</td>\n",
       "      <td>1</td>\n",
       "      <td>-0.671925</td>\n",
       "      <td>2018-03-07 09:43:21</td>\n",
       "      <td>NaN</td>\n",
       "      <td>-1</td>\n",
       "      <td>8</td>\n",
       "    </tr>\n",
       "    <tr>\n",
       "      <th>4</th>\n",
       "      <td>Y</td>\n",
       "      <td>C_ID_ef55cf8d4b</td>\n",
       "      <td>-1</td>\n",
       "      <td>Y</td>\n",
       "      <td>1</td>\n",
       "      <td>B</td>\n",
       "      <td>166</td>\n",
       "      <td>M_ID_3c86fa3831</td>\n",
       "      <td>1</td>\n",
       "      <td>-0.659904</td>\n",
       "      <td>2018-03-22 21:07:53</td>\n",
       "      <td>NaN</td>\n",
       "      <td>-1</td>\n",
       "      <td>29</td>\n",
       "    </tr>\n",
       "  </tbody>\n",
       "</table>\n",
       "</div>"
      ],
      "text/plain": [
       "  authorized_flag          card_id  city_id category_1  installments  \\\n",
       "0               Y  C_ID_415bb3a509      107          N             1   \n",
       "1               Y  C_ID_415bb3a509      140          N             1   \n",
       "2               Y  C_ID_415bb3a509      330          N             1   \n",
       "3               Y  C_ID_415bb3a509       -1          Y             1   \n",
       "4               Y  C_ID_ef55cf8d4b       -1          Y             1   \n",
       "\n",
       "  category_3  merchant_category_id      merchant_id  month_lag  \\\n",
       "0          B                   307  M_ID_b0c793002c          1   \n",
       "1          B                   307  M_ID_88920c89e8          1   \n",
       "2          B                   507  M_ID_ad5237ef6b          2   \n",
       "3          B                   661  M_ID_9e84cda3b1          1   \n",
       "4          B                   166  M_ID_3c86fa3831          1   \n",
       "\n",
       "   purchase_amount       purchase_date  category_2  state_id  subsector_id  \n",
       "0        -0.557574 2018-03-11 14:57:36         1.0         9            19  \n",
       "1        -0.569580 2018-03-19 18:53:37         1.0         9            19  \n",
       "2        -0.551037 2018-04-26 14:08:44         1.0         9            14  \n",
       "3        -0.671925 2018-03-07 09:43:21         NaN        -1             8  \n",
       "4        -0.659904 2018-03-22 21:07:53         NaN        -1            29  "
      ]
     },
     "execution_count": 18,
     "metadata": {},
     "output_type": "execute_result"
    }
   ],
   "source": [
    "new_merch.head()"
   ]
  },
  {
   "cell_type": "code",
   "execution_count": 19,
   "metadata": {},
   "outputs": [
    {
     "data": {
      "image/png": "[encoded data removed]",
      "text/plain": [
       "<Figure size 1080x504 with 1 Axes>"
      ]
     },
     "metadata": {
      "needs_background": "light"
     },
     "output_type": "display_data"
    }
   ],
   "source": [
    "plt.figure(figsize=(15,7)) \n",
    "sns.distplot(new_merch[new_merch['purchase_amount']< new_merch['purchase_amount'].quantile(0.9)]['purchase_amount'])\n",
    "plt.show()"
   ]
  },
  {
   "cell_type": "code",
   "execution_count": 20,
   "metadata": {},
   "outputs": [
    {
     "data": {
      "text/plain": [
       "count    1.963031e+06\n",
       "mean    -5.509690e-01\n",
       "std      6.940043e-01\n",
       "min     -7.468928e-01\n",
       "25%     -7.166294e-01\n",
       "50%     -6.748406e-01\n",
       "75%     -5.816162e-01\n",
       "max      2.631575e+02\n",
       "Name: purchase_amount, dtype: float64"
      ]
     },
     "execution_count": 20,
     "metadata": {},
     "output_type": "execute_result"
    }
   ],
   "source": [
    "new_merch['purchase_amount'].describe()"
   ]
  },
  {
   "cell_type": "markdown",
   "metadata": {},
   "source": [
    "Such values are anonymized ... thinking of the most straighforward ways to do so is to demeaning and scaling, which can be reversed using some optimizations and manual tweaking ....<br>"
   ]
  },
  {
   "cell_type": "code",
   "execution_count": 21,
   "metadata": {},
   "outputs": [
    {
     "data": {
      "text/plain": [
       "323095     131.56\n",
       "1176272     40.21\n",
       "1087190     60.93\n",
       "218432     260.30\n",
       "108437      31.37\n",
       "168706      88.74\n",
       "371565      77.14\n",
       "1693563     50.13\n",
       "1714152    159.14\n",
       "1621758     31.47\n",
       "Name: purchase_amount_new, dtype: float64"
      ]
     },
     "execution_count": 21,
     "metadata": {},
     "output_type": "execute_result"
    }
   ],
   "source": [
    "new_merch['purchase_amount_new'] = pd.Series(np.round(new_merch['purchase_amount'].values / 0.00153 + 500, 2))\n",
    "new_merch['purchase_amount_new'].sample(10)"
   ]
  },
  {
   "cell_type": "code",
   "execution_count": 22,
   "metadata": {},
   "outputs": [
    {
     "data": {
      "image/png": "[encoded data removed]",
      "text/plain": [
       "<Figure size 1080x504 with 1 Axes>"
      ]
     },
     "metadata": {
      "needs_background": "light"
     },
     "output_type": "display_data"
    }
   ],
   "source": [
    "plt.figure(figsize=(15,7)) \n",
    "sns.distplot(new_merch[new_merch['purchase_amount_new']< new_merch['purchase_amount_new'].quantile(0.9)]['purchase_amount_new'])\n",
    "plt.show()"
   ]
  },
  {
   "cell_type": "code",
   "execution_count": 23,
   "metadata": {
    "scrolled": true
   },
   "outputs": [
    {
     "data": {
      "text/plain": [
       "count    1.963031e+06\n",
       "mean     1.398896e+02\n",
       "std      4.535975e+02\n",
       "min      1.183000e+01\n",
       "25%      3.161000e+01\n",
       "50%      5.893000e+01\n",
       "75%      1.198600e+02\n",
       "max      1.724984e+05\n",
       "Name: purchase_amount_new, dtype: float64"
      ]
     },
     "execution_count": 23,
     "metadata": {},
     "output_type": "execute_result"
    }
   ],
   "source": [
    "new_merch['purchase_amount_new'].describe()"
   ]
  },
  {
   "cell_type": "markdown",
   "metadata": {},
   "source": [
    "#####  So after reverse the variable with the magic scaling and mean value ... the values now make much more sense "
   ]
  },
  {
   "cell_type": "markdown",
   "metadata": {},
   "source": [
    "## Helper Function for memory reduction"
   ]
  },
  {
   "cell_type": "code",
   "execution_count": 27,
   "metadata": {},
   "outputs": [],
   "source": [
    "def reduce_mem_usage(df, verbose=True):\n",
    "    numerics = ['int16', 'int32', 'int64', 'float16', 'float32', 'float64']\n",
    "    start_mem = df.memory_usage().sum() / 1024**2    \n",
    "    for col in df.columns:\n",
    "        col_type = df[col].dtypes\n",
    "        if col_type in numerics:\n",
    "            c_min = df[col].min()\n",
    "            c_max = df[col].max()\n",
    "            if str(col_type)[:3] == 'int':\n",
    "                if c_min > np.iinfo(np.int8).min and c_max < np.iinfo(np.int8).max:\n",
    "                    df[col] = df[col].astype(np.int8)\n",
    "                elif c_min > np.iinfo(np.int16).min and c_max < np.iinfo(np.int16).max:\n",
    "                    df[col] = df[col].astype(np.int16)\n",
    "                elif c_min > np.iinfo(np.int32).min and c_max < np.iinfo(np.int32).max:\n",
    "                    df[col] = df[col].astype(np.int32)\n",
    "                elif c_min > np.iinfo(np.int64).min and c_max < np.iinfo(np.int64).max:\n",
    "                    df[col] = df[col].astype(np.int64)  \n",
    "            else:\n",
    "                if c_min > np.finfo(np.float16).min and c_max < np.finfo(np.float16).max:\n",
    "                    df[col] = df[col].astype(np.float16)\n",
    "                elif c_min > np.finfo(np.float32).min and c_max < np.finfo(np.float32).max:\n",
    "                    df[col] = df[col].astype(np.float32)\n",
    "                else:\n",
    "                    df[col] = df[col].astype(np.float64)    \n",
    "    end_mem = df.memory_usage().sum() / 1024**2\n",
    "    if verbose: print('Mem. usage decreased to {:5.2f} Mb ({:.1f}% reduction)'.format(end_mem, 100 * (start_mem - end_mem) / start_mem))\n",
    "    return df"
   ]
  },
  {
   "cell_type": "markdown",
   "metadata": {},
   "source": [
    "### Feature Engineering"
   ]
  },
  {
   "cell_type": "code",
   "execution_count": 28,
   "metadata": {},
   "outputs": [],
   "source": [
    "def makeDummy(df):\n",
    "    for col in ['category_1', 'authorized_flag']:\n",
    "        df[col] = df[col].map({'Y':1, 'N':0})\n",
    "    return df"
   ]
  },
  {
   "cell_type": "code",
   "execution_count": 29,
   "metadata": {},
   "outputs": [],
   "source": [
    "new_merch = makeDummy(new_merch)\n",
    "hist_merch = makeDummy(hist_merch)"
   ]
  },
  {
   "cell_type": "markdown",
   "metadata": {},
   "source": [
    "#### month difference feature"
   ]
  },
  {
   "cell_type": "code",
   "execution_count": 30,
   "metadata": {},
   "outputs": [],
   "source": [
    "hist_merch['month_diff'] = (datetime.datetime.today() - hist_merch['purchase_date']).dt.days//30\n",
    "hist_merch['month_diff']+= hist_merch['month_lag']\n",
    "\n",
    "new_merch['month_diff'] = (datetime.datetime.today() - new_merch['purchase_date']).dt.days//30\n",
    "new_merch['month_diff']+= new_merch['month_lag']"
   ]
  },
  {
   "cell_type": "code",
   "execution_count": 31,
   "metadata": {},
   "outputs": [],
   "source": [
    "hist_merch['purchase_month'] = hist_merch['purchase_date'].dt.month\n",
    "new_merch['purchase_month'] = new_merch['purchase_date'].dt.month"
   ]
  },
  {
   "cell_type": "markdown",
   "metadata": {},
   "source": [
    "#### dummies features"
   ]
  },
  {
   "cell_type": "code",
   "execution_count": 32,
   "metadata": {},
   "outputs": [],
   "source": [
    "hist_merch = pd.get_dummies(hist_merch, columns=['category_2', 'category_3'])\n",
    "new_merch = pd.get_dummies(new_merch, columns=['category_2', 'category_3'])"
   ]
  },
  {
   "cell_type": "markdown",
   "metadata": {},
   "source": [
    "#### reduce memory"
   ]
  },
  {
   "cell_type": "code",
   "execution_count": 33,
   "metadata": {},
   "outputs": [
    {
     "name": "stdout",
     "output_type": "stream",
     "text": [
      "Mem. usage decreased to 1360.42 Mb (59.2% reduction)\n"
     ]
    }
   ],
   "source": [
    "hist_merch = reduce_mem_usage(hist_merch)"
   ]
  },
  {
   "cell_type": "code",
   "execution_count": 34,
   "metadata": {},
   "outputs": [
    {
     "name": "stdout",
     "output_type": "stream",
     "text": [
      "Mem. usage decreased to 95.48 Mb (60.2% reduction)\n"
     ]
    }
   ],
   "source": [
    "new_merch = reduce_mem_usage(new_merch)"
   ]
  },
  {
   "cell_type": "markdown",
   "metadata": {},
   "source": [
    "### Aggregation Function I"
   ]
  },
  {
   "cell_type": "code",
   "execution_count": 35,
   "metadata": {},
   "outputs": [],
   "source": [
    "def aggeragate_transactions(df):\n",
    "    \n",
    "    df['purchase_date'] = pd.DatetimeIndex(df['purchase_date']).astype(np.int64)* 1e-9 ## to apply ptp (peak to peak agg fun.)\n",
    "    \n",
    "    agg_funcs = {\n",
    "        'authorized_flag': ['sum', 'mean'],\n",
    "        'city_id' : ['nunique'],\n",
    "        'category_1' : ['sum', 'mean'],\n",
    "        'installments' : ['sum', 'mean', 'max', 'min', 'std'],\n",
    "        'merchant_category_id' : ['nunique'],\n",
    "        'merchant_id' : ['nunique'],\n",
    "        'month_lag' : ['sum', 'mean', 'max', 'min', 'std'],\n",
    "        'purchase_amount' : ['sum', 'mean', 'max', 'min', 'std'],\n",
    "        'purchase_date' : [np.ptp, 'max', 'min'],\n",
    "        'state_id' : ['nunique'],\n",
    "        'subsector_id' : ['nunique'],\n",
    "        'month_diff' : ['sum', 'mean', 'max', 'min', 'std'],\n",
    "        'category_2_1.0' : ['sum', 'mean'],\n",
    "        'category_2_2.0' : ['sum', 'mean'],\n",
    "        'category_2_3.0' : ['sum', 'mean'],\n",
    "        'category_2_4.0' : ['sum', 'mean'],\n",
    "        'category_2_5.0' : ['sum', 'mean'],\n",
    "        'category_3_A' : ['sum', 'mean'],\n",
    "        'category_3_B' : ['sum', 'mean'],\n",
    "        'category_3_C' : ['sum', 'mean'],\n",
    "        'purchase_month' : ['sum', 'mean', 'max', 'min', 'std'],\n",
    "    }\n",
    "    \n",
    "    agg_df = df.groupby(by='card_id').agg(agg_funcs)\n",
    "    agg_df.columns = ['_'.join(c) for c in agg_df.columns.values]\n",
    "    agg_df = agg_df.reset_index()\n",
    "    \n",
    "    return agg_df"
   ]
  },
  {
   "cell_type": "code",
   "execution_count": 36,
   "metadata": {},
   "outputs": [],
   "source": [
    "X_base = aggeragate_transactions(hist_merch)"
   ]
  },
  {
   "cell_type": "code",
   "execution_count": 37,
   "metadata": {},
   "outputs": [],
   "source": [
    "X_new = aggeragate_transactions(new_merch)"
   ]
  },
  {
   "cell_type": "code",
   "execution_count": 38,
   "metadata": {},
   "outputs": [
    {
     "name": "stdout",
     "output_type": "stream",
     "text": [
      "Mem. usage decreased to 36.94 Mb (66.2% reduction)\n"
     ]
    }
   ],
   "source": [
    "X_base = reduce_mem_usage(X_base)"
   ]
  },
  {
   "cell_type": "code",
   "execution_count": 39,
   "metadata": {},
   "outputs": [
    {
     "name": "stdout",
     "output_type": "stream",
     "text": [
      "Mem. usage decreased to 26.83 Mb (63.4% reduction)\n"
     ]
    }
   ],
   "source": [
    "X_new = reduce_mem_usage(X_new)"
   ]
  },
  {
   "cell_type": "code",
   "execution_count": 40,
   "metadata": {},
   "outputs": [],
   "source": [
    "X_base.columns = ['hist_' + col if col != 'card_id' else col for col in X_base.columns.values]\n",
    "X_new.columns = ['new_' + col   if col != 'card_id' else col for col in X_new.columns.values]"
   ]
  },
  {
   "cell_type": "markdown",
   "metadata": {},
   "source": [
    "### Aggregation Function II"
   ]
  },
  {
   "cell_type": "code",
   "execution_count": 41,
   "metadata": {},
   "outputs": [],
   "source": [
    "def double_aggregation(df):\n",
    "    \n",
    "    agg_func = {\n",
    "        'purchase_amount': ['count', 'sum', 'mean', 'min', 'max', 'std'],\n",
    "        'installments': ['count', 'sum', 'mean', 'min', 'max', 'std'],\n",
    "    }\n",
    "    \n",
    "    grouped = df.groupby(by=['card_id', 'month_lag']).agg(agg_func)\n",
    "    grouped.columns = ['_'.join(c) for c in grouped.columns.values]\n",
    "    grouped = grouped.reset_index()\n",
    "    \n",
    "    ggrouped = grouped.groupby('card_id').agg(['mean', 'std'])\n",
    "    ggrouped.columns = ['_'.join(c) for c in ggrouped.columns.values]\n",
    "    ggrouped = ggrouped.reset_index()\n",
    "    \n",
    "    return ggrouped"
   ]
  },
  {
   "cell_type": "code",
   "execution_count": 42,
   "metadata": {},
   "outputs": [],
   "source": [
    "X_dbgb = double_aggregation(hist_merch)"
   ]
  },
  {
   "cell_type": "code",
   "execution_count": 43,
   "metadata": {},
   "outputs": [
    {
     "name": "stdout",
     "output_type": "stream",
     "text": [
      "Mem. usage decreased to 23.59 Mb (56.8% reduction)\n"
     ]
    }
   ],
   "source": [
    "X_dbgb = reduce_mem_usage(X_dbgb)"
   ]
  },
  {
   "cell_type": "code",
   "execution_count": 44,
   "metadata": {},
   "outputs": [
    {
     "data": {
      "text/plain": [
       "(325540, 27)"
      ]
     },
     "execution_count": 44,
     "metadata": {},
     "output_type": "execute_result"
    }
   ],
   "source": [
    "X_dbgb.shape"
   ]
  },
  {
   "cell_type": "code",
   "execution_count": 45,
   "metadata": {
    "scrolled": true
   },
   "outputs": [
    {
     "data": {
      "text/html": [
       "<div>\n",
       "<style scoped>\n",
       "    .dataframe tbody tr th:only-of-type {\n",
       "        vertical-align: middle;\n",
       "    }\n",
       "\n",
       "    .dataframe tbody tr th {\n",
       "        vertical-align: top;\n",
       "    }\n",
       "\n",
       "    .dataframe thead th {\n",
       "        text-align: right;\n",
       "    }\n",
       "</style>\n",
       "<table border=\"1\" class=\"dataframe\">\n",
       "  <thead>\n",
       "    <tr style=\"text-align: right;\">\n",
       "      <th></th>\n",
       "      <th>first_active_month</th>\n",
       "      <th>card_id</th>\n",
       "      <th>feature_1</th>\n",
       "      <th>feature_2</th>\n",
       "      <th>feature_3</th>\n",
       "      <th>target</th>\n",
       "    </tr>\n",
       "  </thead>\n",
       "  <tbody>\n",
       "    <tr>\n",
       "      <th>0</th>\n",
       "      <td>2017-06</td>\n",
       "      <td>C_ID_92a2005557</td>\n",
       "      <td>5</td>\n",
       "      <td>2</td>\n",
       "      <td>1</td>\n",
       "      <td>-0.820283</td>\n",
       "    </tr>\n",
       "    <tr>\n",
       "      <th>1</th>\n",
       "      <td>2017-01</td>\n",
       "      <td>C_ID_3d0044924f</td>\n",
       "      <td>4</td>\n",
       "      <td>1</td>\n",
       "      <td>0</td>\n",
       "      <td>0.392913</td>\n",
       "    </tr>\n",
       "    <tr>\n",
       "      <th>2</th>\n",
       "      <td>2016-08</td>\n",
       "      <td>C_ID_d639edf6cd</td>\n",
       "      <td>2</td>\n",
       "      <td>2</td>\n",
       "      <td>0</td>\n",
       "      <td>0.688056</td>\n",
       "    </tr>\n",
       "    <tr>\n",
       "      <th>3</th>\n",
       "      <td>2017-09</td>\n",
       "      <td>C_ID_186d6a6901</td>\n",
       "      <td>4</td>\n",
       "      <td>3</td>\n",
       "      <td>0</td>\n",
       "      <td>0.142495</td>\n",
       "    </tr>\n",
       "    <tr>\n",
       "      <th>4</th>\n",
       "      <td>2017-11</td>\n",
       "      <td>C_ID_cdbd2c0db2</td>\n",
       "      <td>1</td>\n",
       "      <td>3</td>\n",
       "      <td>0</td>\n",
       "      <td>-0.159749</td>\n",
       "    </tr>\n",
       "  </tbody>\n",
       "</table>\n",
       "</div>"
      ],
      "text/plain": [
       "  first_active_month          card_id  feature_1  feature_2  feature_3  \\\n",
       "0            2017-06  C_ID_92a2005557          5          2          1   \n",
       "1            2017-01  C_ID_3d0044924f          4          1          0   \n",
       "2            2016-08  C_ID_d639edf6cd          2          2          0   \n",
       "3            2017-09  C_ID_186d6a6901          4          3          0   \n",
       "4            2017-11  C_ID_cdbd2c0db2          1          3          0   \n",
       "\n",
       "     target  \n",
       "0 -0.820283  \n",
       "1  0.392913  \n",
       "2  0.688056  \n",
       "3  0.142495  \n",
       "4 -0.159749  "
      ]
     },
     "execution_count": 45,
     "metadata": {},
     "output_type": "execute_result"
    }
   ],
   "source": [
    "train.head()"
   ]
  },
  {
   "cell_type": "code",
   "execution_count": 46,
   "metadata": {},
   "outputs": [],
   "source": [
    "def format_train_test(df):\n",
    "    df['first_active_month'] = pd.to_datetime(df['first_active_month'])\n",
    "    return df"
   ]
  },
  {
   "cell_type": "code",
   "execution_count": 87,
   "metadata": {},
   "outputs": [],
   "source": [
    "train = pd.read_csv('train.csv')\n",
    "train = format_train_test(train)"
   ]
  },
  {
   "cell_type": "code",
   "execution_count": 88,
   "metadata": {},
   "outputs": [],
   "source": [
    "test = pd.read_csv('test.csv')\n",
    "test = format_train_test(test)"
   ]
  },
  {
   "cell_type": "code",
   "execution_count": 89,
   "metadata": {},
   "outputs": [],
   "source": [
    "target = train['target']\n",
    "del train['target']"
   ]
  },
  {
   "cell_type": "markdown",
   "metadata": {},
   "source": [
    "### Merging Data-Frames"
   ]
  },
  {
   "cell_type": "code",
   "execution_count": 90,
   "metadata": {},
   "outputs": [],
   "source": [
    "train = pd.merge(train, X_base, on='card_id', how='left')\n",
    "test  = pd.merge(test,  X_base, on='card_id', how='left')\n",
    "\n",
    "train = pd.merge(train, X_new, on='card_id', how='left')\n",
    "test  = pd.merge(test,  X_new, on='card_id', how='left')\n",
    "\n",
    "train = pd.merge(train, X_dbgb, on='card_id', how='left')\n",
    "test  = pd.merge(test,  X_dbgb, on='card_id', how='left')"
   ]
  },
  {
   "cell_type": "code",
   "execution_count": 91,
   "metadata": {},
   "outputs": [
    {
     "data": {
      "text/plain": [
       "(201917, 137)"
      ]
     },
     "execution_count": 91,
     "metadata": {},
     "output_type": "execute_result"
    }
   ],
   "source": [
    "train.shape"
   ]
  },
  {
   "cell_type": "code",
   "execution_count": 92,
   "metadata": {},
   "outputs": [
    {
     "data": {
      "text/plain": [
       "(123623, 137)"
      ]
     },
     "execution_count": 92,
     "metadata": {},
     "output_type": "execute_result"
    }
   ],
   "source": [
    "test.shape"
   ]
  },
  {
   "cell_type": "code",
   "execution_count": 70,
   "metadata": {
    "scrolled": false
   },
   "outputs": [
    {
     "data": {
      "text/html": [
       "<div>\n",
       "<style scoped>\n",
       "    .dataframe tbody tr th:only-of-type {\n",
       "        vertical-align: middle;\n",
       "    }\n",
       "\n",
       "    .dataframe tbody tr th {\n",
       "        vertical-align: top;\n",
       "    }\n",
       "\n",
       "    .dataframe thead th {\n",
       "        text-align: right;\n",
       "    }\n",
       "</style>\n",
       "<table border=\"1\" class=\"dataframe\">\n",
       "  <thead>\n",
       "    <tr style=\"text-align: right;\">\n",
       "      <th></th>\n",
       "      <th>first_active_month</th>\n",
       "      <th>card_id</th>\n",
       "      <th>feature_1</th>\n",
       "      <th>feature_2</th>\n",
       "      <th>feature_3</th>\n",
       "      <th>hist_authorized_flag_sum</th>\n",
       "      <th>hist_authorized_flag_mean</th>\n",
       "      <th>hist_city_id_nunique</th>\n",
       "      <th>hist_category_1_sum</th>\n",
       "      <th>hist_category_1_mean</th>\n",
       "      <th>...</th>\n",
       "      <th>installments_sum_mean</th>\n",
       "      <th>installments_sum_std</th>\n",
       "      <th>installments_mean_mean</th>\n",
       "      <th>installments_mean_std</th>\n",
       "      <th>installments_min_mean</th>\n",
       "      <th>installments_min_std</th>\n",
       "      <th>installments_max_mean</th>\n",
       "      <th>installments_max_std</th>\n",
       "      <th>installments_std_mean</th>\n",
       "      <th>installments_std_std</th>\n",
       "    </tr>\n",
       "  </thead>\n",
       "  <tbody>\n",
       "    <tr>\n",
       "      <th>0</th>\n",
       "      <td>2017-06-01</td>\n",
       "      <td>C_ID_92a2005557</td>\n",
       "      <td>5</td>\n",
       "      <td>2</td>\n",
       "      <td>1</td>\n",
       "      <td>247.0</td>\n",
       "      <td>0.950195</td>\n",
       "      <td>7</td>\n",
       "      <td>0.0</td>\n",
       "      <td>0.000000</td>\n",
       "      <td>...</td>\n",
       "      <td>0.444336</td>\n",
       "      <td>0.726562</td>\n",
       "      <td>0.018188</td>\n",
       "      <td>0.032227</td>\n",
       "      <td>0.000000</td>\n",
       "      <td>0.000000</td>\n",
       "      <td>0.333252</td>\n",
       "      <td>0.500000</td>\n",
       "      <td>0.074280</td>\n",
       "      <td>0.117065</td>\n",
       "    </tr>\n",
       "    <tr>\n",
       "      <th>1</th>\n",
       "      <td>2017-01-01</td>\n",
       "      <td>C_ID_3d0044924f</td>\n",
       "      <td>4</td>\n",
       "      <td>1</td>\n",
       "      <td>0</td>\n",
       "      <td>339.0</td>\n",
       "      <td>0.968750</td>\n",
       "      <td>9</td>\n",
       "      <td>31.0</td>\n",
       "      <td>0.088562</td>\n",
       "      <td>...</td>\n",
       "      <td>41.781250</td>\n",
       "      <td>14.343750</td>\n",
       "      <td>1.712891</td>\n",
       "      <td>0.546875</td>\n",
       "      <td>0.692383</td>\n",
       "      <td>0.750977</td>\n",
       "      <td>6.308594</td>\n",
       "      <td>2.781250</td>\n",
       "      <td>1.478516</td>\n",
       "      <td>0.895508</td>\n",
       "    </tr>\n",
       "    <tr>\n",
       "      <th>2</th>\n",
       "      <td>2016-08-01</td>\n",
       "      <td>C_ID_d639edf6cd</td>\n",
       "      <td>2</td>\n",
       "      <td>2</td>\n",
       "      <td>0</td>\n",
       "      <td>41.0</td>\n",
       "      <td>0.953613</td>\n",
       "      <td>5</td>\n",
       "      <td>0.0</td>\n",
       "      <td>0.000000</td>\n",
       "      <td>...</td>\n",
       "      <td>0.000000</td>\n",
       "      <td>0.000000</td>\n",
       "      <td>0.000000</td>\n",
       "      <td>0.000000</td>\n",
       "      <td>0.000000</td>\n",
       "      <td>0.000000</td>\n",
       "      <td>0.000000</td>\n",
       "      <td>0.000000</td>\n",
       "      <td>0.000000</td>\n",
       "      <td>0.000000</td>\n",
       "    </tr>\n",
       "    <tr>\n",
       "      <th>3</th>\n",
       "      <td>2017-09-01</td>\n",
       "      <td>C_ID_186d6a6901</td>\n",
       "      <td>4</td>\n",
       "      <td>3</td>\n",
       "      <td>0</td>\n",
       "      <td>77.0</td>\n",
       "      <td>1.000000</td>\n",
       "      <td>7</td>\n",
       "      <td>12.0</td>\n",
       "      <td>0.155884</td>\n",
       "      <td>...</td>\n",
       "      <td>14.000000</td>\n",
       "      <td>11.523438</td>\n",
       "      <td>1.044922</td>\n",
       "      <td>0.215576</td>\n",
       "      <td>0.333252</td>\n",
       "      <td>1.033203</td>\n",
       "      <td>2.000000</td>\n",
       "      <td>1.095703</td>\n",
       "      <td>0.519043</td>\n",
       "      <td>0.483398</td>\n",
       "    </tr>\n",
       "    <tr>\n",
       "      <th>4</th>\n",
       "      <td>2017-11-01</td>\n",
       "      <td>C_ID_cdbd2c0db2</td>\n",
       "      <td>1</td>\n",
       "      <td>3</td>\n",
       "      <td>0</td>\n",
       "      <td>128.0</td>\n",
       "      <td>0.962402</td>\n",
       "      <td>6</td>\n",
       "      <td>15.0</td>\n",
       "      <td>0.112793</td>\n",
       "      <td>...</td>\n",
       "      <td>45.500000</td>\n",
       "      <td>23.984375</td>\n",
       "      <td>1.370117</td>\n",
       "      <td>0.597168</td>\n",
       "      <td>1.000000</td>\n",
       "      <td>0.000000</td>\n",
       "      <td>4.500000</td>\n",
       "      <td>5.066406</td>\n",
       "      <td>1.083008</td>\n",
       "      <td>1.664062</td>\n",
       "    </tr>\n",
       "  </tbody>\n",
       "</table>\n",
       "<p>5 rows × 137 columns</p>\n",
       "</div>"
      ],
      "text/plain": [
       "  first_active_month          card_id  feature_1  feature_2  feature_3  \\\n",
       "0         2017-06-01  C_ID_92a2005557          5          2          1   \n",
       "1         2017-01-01  C_ID_3d0044924f          4          1          0   \n",
       "2         2016-08-01  C_ID_d639edf6cd          2          2          0   \n",
       "3         2017-09-01  C_ID_186d6a6901          4          3          0   \n",
       "4         2017-11-01  C_ID_cdbd2c0db2          1          3          0   \n",
       "\n",
       "   hist_authorized_flag_sum  hist_authorized_flag_mean  hist_city_id_nunique  \\\n",
       "0                     247.0                   0.950195                     7   \n",
       "1                     339.0                   0.968750                     9   \n",
       "2                      41.0                   0.953613                     5   \n",
       "3                      77.0                   1.000000                     7   \n",
       "4                     128.0                   0.962402                     6   \n",
       "\n",
       "   hist_category_1_sum  hist_category_1_mean  ...  installments_sum_mean  \\\n",
       "0                  0.0              0.000000  ...               0.444336   \n",
       "1                 31.0              0.088562  ...              41.781250   \n",
       "2                  0.0              0.000000  ...               0.000000   \n",
       "3                 12.0              0.155884  ...              14.000000   \n",
       "4                 15.0              0.112793  ...              45.500000   \n",
       "\n",
       "   installments_sum_std  installments_mean_mean  installments_mean_std  \\\n",
       "0              0.726562                0.018188               0.032227   \n",
       "1             14.343750                1.712891               0.546875   \n",
       "2              0.000000                0.000000               0.000000   \n",
       "3             11.523438                1.044922               0.215576   \n",
       "4             23.984375                1.370117               0.597168   \n",
       "\n",
       "   installments_min_mean  installments_min_std  installments_max_mean  \\\n",
       "0               0.000000              0.000000               0.333252   \n",
       "1               0.692383              0.750977               6.308594   \n",
       "2               0.000000              0.000000               0.000000   \n",
       "3               0.333252              1.033203               2.000000   \n",
       "4               1.000000              0.000000               4.500000   \n",
       "\n",
       "   installments_max_std  installments_std_mean  installments_std_std  \n",
       "0              0.500000               0.074280              0.117065  \n",
       "1              2.781250               1.478516              0.895508  \n",
       "2              0.000000               0.000000              0.000000  \n",
       "3              1.095703               0.519043              0.483398  \n",
       "4              5.066406               1.083008              1.664062  \n",
       "\n",
       "[5 rows x 137 columns]"
      ]
     },
     "execution_count": 70,
     "metadata": {},
     "output_type": "execute_result"
    }
   ],
   "source": [
    "train.head()"
   ]
  },
  {
   "cell_type": "markdown",
   "metadata": {},
   "source": [
    "## Light-GBM"
   ]
  },
  {
   "cell_type": "code",
   "execution_count": 95,
   "metadata": {},
   "outputs": [],
   "source": [
    "param = {'num_leaves': 111,\n",
    "         'min_data_in_leaf': 149, \n",
    "         'objective':'regression',\n",
    "         'max_depth': 9,\n",
    "         'learning_rate': 0.005,\n",
    "         \"boosting\": \"gbdt\",\n",
    "         \"feature_fraction\": 0.7522,\n",
    "         \"bagging_freq\": 1,\n",
    "         \"bagging_fraction\": 0.7083 ,\n",
    "         \"bagging_seed\": 11,\n",
    "         \"metric\": 'rmse',\n",
    "         \"lambda_l1\": 0.2634,\n",
    "         \"random_state\": 133,\n",
    "         \"verbosity\": -1}"
   ]
  },
  {
   "cell_type": "code",
   "execution_count": 96,
   "metadata": {},
   "outputs": [],
   "source": [
    "features = [c for c in train.columns if c not in ['card_id', 'first_active_month']]\n",
    "categorical_feats = ['feature_2', 'feature_3']"
   ]
  },
  {
   "cell_type": "code",
   "execution_count": 97,
   "metadata": {
    "scrolled": true
   },
   "outputs": [
    {
     "name": "stdout",
     "output_type": "stream",
     "text": [
      "fold n°0\n",
      "Training until validation scores don't improve for 200 rounds.\n",
      "[100]\ttraining's rmse: 3.71525\tvalid_1's rmse: 3.77739\n",
      "[200]\ttraining's rmse: 3.64748\tvalid_1's rmse: 3.72977\n",
      "[300]\ttraining's rmse: 3.60486\tvalid_1's rmse: 3.70716\n",
      "[400]\ttraining's rmse: 3.574\tvalid_1's rmse: 3.69518\n",
      "[500]\ttraining's rmse: 3.5502\tvalid_1's rmse: 3.68845\n",
      "[600]\ttraining's rmse: 3.53102\tvalid_1's rmse: 3.68383\n",
      "[700]\ttraining's rmse: 3.51564\tvalid_1's rmse: 3.68103\n",
      "[800]\ttraining's rmse: 3.50196\tvalid_1's rmse: 3.67911\n",
      "[900]\ttraining's rmse: 3.48891\tvalid_1's rmse: 3.67776\n",
      "[1000]\ttraining's rmse: 3.47662\tvalid_1's rmse: 3.67703\n",
      "Did not meet early stopping. Best iteration is:\n",
      "[1000]\ttraining's rmse: 3.47662\tvalid_1's rmse: 3.67703\n",
      "fold n°1\n",
      "Training until validation scores don't improve for 200 rounds.\n",
      "[100]\ttraining's rmse: 3.7322\tvalid_1's rmse: 3.70661\n",
      "[200]\ttraining's rmse: 3.66266\tvalid_1's rmse: 3.66348\n",
      "[300]\ttraining's rmse: 3.61929\tvalid_1's rmse: 3.64321\n",
      "[400]\ttraining's rmse: 3.58819\tvalid_1's rmse: 3.63321\n",
      "[500]\ttraining's rmse: 3.5636\tvalid_1's rmse: 3.62803\n",
      "[600]\ttraining's rmse: 3.54399\tvalid_1's rmse: 3.62486\n",
      "[700]\ttraining's rmse: 3.52741\tvalid_1's rmse: 3.62254\n",
      "[800]\ttraining's rmse: 3.51282\tvalid_1's rmse: 3.62131\n",
      "[900]\ttraining's rmse: 3.50007\tvalid_1's rmse: 3.62066\n",
      "[1000]\ttraining's rmse: 3.48756\tvalid_1's rmse: 3.61999\n",
      "Did not meet early stopping. Best iteration is:\n",
      "[1000]\ttraining's rmse: 3.48756\tvalid_1's rmse: 3.61999\n",
      "fold n°2\n",
      "Training until validation scores don't improve for 200 rounds.\n",
      "[100]\ttraining's rmse: 3.73649\tvalid_1's rmse: 3.68058\n",
      "[200]\ttraining's rmse: 3.66634\tvalid_1's rmse: 3.63869\n",
      "[300]\ttraining's rmse: 3.62221\tvalid_1's rmse: 3.62018\n",
      "[400]\ttraining's rmse: 3.59131\tvalid_1's rmse: 3.61113\n",
      "[500]\ttraining's rmse: 3.56738\tvalid_1's rmse: 3.60588\n",
      "[600]\ttraining's rmse: 3.54795\tvalid_1's rmse: 3.60304\n",
      "[700]\ttraining's rmse: 3.53201\tvalid_1's rmse: 3.60096\n",
      "[800]\ttraining's rmse: 3.51704\tvalid_1's rmse: 3.59931\n",
      "[900]\ttraining's rmse: 3.504\tvalid_1's rmse: 3.59856\n",
      "[1000]\ttraining's rmse: 3.49169\tvalid_1's rmse: 3.59761\n",
      "Did not meet early stopping. Best iteration is:\n",
      "[1000]\ttraining's rmse: 3.49169\tvalid_1's rmse: 3.59761\n",
      "fold n°3\n",
      "Training until validation scores don't improve for 200 rounds.\n",
      "[100]\ttraining's rmse: 3.68815\tvalid_1's rmse: 3.88024\n",
      "[200]\ttraining's rmse: 3.61932\tvalid_1's rmse: 3.83374\n",
      "[300]\ttraining's rmse: 3.57549\tvalid_1's rmse: 3.81215\n",
      "[400]\ttraining's rmse: 3.5439\tvalid_1's rmse: 3.80136\n",
      "[500]\ttraining's rmse: 3.51922\tvalid_1's rmse: 3.79539\n",
      "[600]\ttraining's rmse: 3.49895\tvalid_1's rmse: 3.7917\n",
      "[700]\ttraining's rmse: 3.48242\tvalid_1's rmse: 3.78945\n",
      "[800]\ttraining's rmse: 3.46814\tvalid_1's rmse: 3.7883\n",
      "[900]\ttraining's rmse: 3.45513\tvalid_1's rmse: 3.78769\n",
      "[1000]\ttraining's rmse: 3.44239\tvalid_1's rmse: 3.78723\n",
      "Did not meet early stopping. Best iteration is:\n",
      "[1000]\ttraining's rmse: 3.44239\tvalid_1's rmse: 3.78723\n",
      "fold n°4\n",
      "Training until validation scores don't improve for 200 rounds.\n",
      "[100]\ttraining's rmse: 3.73318\tvalid_1's rmse: 3.69419\n",
      "[200]\ttraining's rmse: 3.66345\tvalid_1's rmse: 3.65277\n",
      "[300]\ttraining's rmse: 3.61988\tvalid_1's rmse: 3.63429\n",
      "[400]\ttraining's rmse: 3.58806\tvalid_1's rmse: 3.62525\n",
      "[500]\ttraining's rmse: 3.56347\tvalid_1's rmse: 3.62018\n",
      "[600]\ttraining's rmse: 3.54443\tvalid_1's rmse: 3.61725\n",
      "[700]\ttraining's rmse: 3.52843\tvalid_1's rmse: 3.61569\n",
      "[800]\ttraining's rmse: 3.51411\tvalid_1's rmse: 3.61448\n",
      "[900]\ttraining's rmse: 3.50059\tvalid_1's rmse: 3.61421\n",
      "[1000]\ttraining's rmse: 3.48777\tvalid_1's rmse: 3.61378\n",
      "Did not meet early stopping. Best iteration is:\n",
      "[1000]\ttraining's rmse: 3.48777\tvalid_1's rmse: 3.61378\n"
     ]
    },
    {
     "ename": "NameError",
     "evalue": "name 'mean_squared_error' is not defined",
     "output_type": "error",
     "traceback": [
      "\u001b[1;31m---------------------------------------------------------------------------\u001b[0m",
      "\u001b[1;31mNameError\u001b[0m                                 Traceback (most recent call last)",
      "\u001b[1;32m<ipython-input-97-5f9d5dd6e690>\u001b[0m in \u001b[0;36m<module>\u001b[1;34m\u001b[0m\n\u001b[0;32m     34\u001b[0m     \u001b[0mpredictions\u001b[0m \u001b[1;33m+=\u001b[0m \u001b[0mclf\u001b[0m\u001b[1;33m.\u001b[0m\u001b[0mpredict\u001b[0m\u001b[1;33m(\u001b[0m\u001b[0mtest\u001b[0m\u001b[1;33m[\u001b[0m\u001b[0mfeatures\u001b[0m\u001b[1;33m]\u001b[0m\u001b[1;33m,\u001b[0m \u001b[0mnum_iteration\u001b[0m\u001b[1;33m=\u001b[0m\u001b[0mclf\u001b[0m\u001b[1;33m.\u001b[0m\u001b[0mbest_iteration\u001b[0m\u001b[1;33m)\u001b[0m \u001b[1;33m/\u001b[0m \u001b[0mfolds\u001b[0m\u001b[1;33m.\u001b[0m\u001b[0mn_splits\u001b[0m\u001b[1;33m\u001b[0m\u001b[1;33m\u001b[0m\u001b[0m\n\u001b[0;32m     35\u001b[0m \u001b[1;33m\u001b[0m\u001b[0m\n\u001b[1;32m---> 36\u001b[1;33m \u001b[0mprint\u001b[0m\u001b[1;33m(\u001b[0m\u001b[1;34m\"CV score: {:<8.5f}\"\u001b[0m\u001b[1;33m.\u001b[0m\u001b[0mformat\u001b[0m\u001b[1;33m(\u001b[0m\u001b[0mmean_squared_error\u001b[0m\u001b[1;33m(\u001b[0m\u001b[0moof\u001b[0m\u001b[1;33m,\u001b[0m \u001b[0mtarget\u001b[0m\u001b[1;33m)\u001b[0m\u001b[1;33m**\u001b[0m\u001b[1;36m0.5\u001b[0m\u001b[1;33m)\u001b[0m\u001b[1;33m)\u001b[0m\u001b[1;33m\u001b[0m\u001b[1;33m\u001b[0m\u001b[0m\n\u001b[0m",
      "\u001b[1;31mNameError\u001b[0m: name 'mean_squared_error' is not defined"
     ]
    }
   ],
   "source": [
    "folds = KFold(n_splits=5, shuffle=True, random_state=15)\n",
    "oof = np.zeros(len(train))\n",
    "predictions = np.zeros(len(test))\n",
    "start = time.time()\n",
    "feature_importance_df = pd.DataFrame()\n",
    "\n",
    "for fold_, (trn_idx, val_idx) in enumerate(folds.split(train.values, target.values)):\n",
    "    print(\"fold n°{}\".format(fold_))\n",
    "    trn_data = lgb.Dataset(train.iloc[trn_idx][features],\n",
    "                           label=target.iloc[trn_idx],\n",
    "                           categorical_feature=categorical_feats\n",
    "                          )\n",
    "    val_data = lgb.Dataset(train.iloc[val_idx][features],\n",
    "                           label=target.iloc[val_idx],\n",
    "                           categorical_feature=categorical_feats\n",
    "                          )\n",
    "\n",
    "    num_round = 1_000\n",
    "    clf = lgb.train(param,\n",
    "                    trn_data,\n",
    "                    num_round,\n",
    "                    valid_sets = [trn_data, val_data],\n",
    "                    verbose_eval=100,\n",
    "                    early_stopping_rounds = 200)\n",
    "    \n",
    "    oof[val_idx] = clf.predict(train.iloc[val_idx][features], num_iteration=clf.best_iteration)\n",
    "    \n",
    "    fold_importance_df = pd.DataFrame()\n",
    "    fold_importance_df[\"feature\"] = features\n",
    "    fold_importance_df[\"importance\"] = clf.feature_importance()\n",
    "    fold_importance_df[\"fold\"] = fold_ + 1\n",
    "    feature_importance_df = pd.concat([feature_importance_df, fold_importance_df], axis=0)\n",
    "    \n",
    "    predictions += clf.predict(test[features], num_iteration=clf.best_iteration) / folds.n_splits"
   ]
  },
  {
   "cell_type": "code",
   "execution_count": 106,
   "metadata": {},
   "outputs": [
    {
     "name": "stdout",
     "output_type": "stream",
     "text": [
      "CV score: 3.65979 \n"
     ]
    }
   ],
   "source": [
    "print(\"CV score: {:<8.5f}\".format(mean_squared_error(oof, target)**0.5))"
   ]
  },
  {
   "cell_type": "code",
   "execution_count": 103,
   "metadata": {},
   "outputs": [
    {
     "data": {
      "text/plain": [
       "array([-0.26784362, -0.39758262,  0.63955891, ...,  0.0719413 ,\n",
       "       -2.70124086, -0.35174306])"
      ]
     },
     "execution_count": 103,
     "metadata": {},
     "output_type": "execute_result"
    }
   ],
   "source": [
    "oof"
   ]
  },
  {
   "cell_type": "code",
   "execution_count": 104,
   "metadata": {},
   "outputs": [
    {
     "data": {
      "text/plain": [
       "201917"
      ]
     },
     "execution_count": 104,
     "metadata": {},
     "output_type": "execute_result"
    }
   ],
   "source": [
    "len(oof)"
   ]
  },
  {
   "cell_type": "code",
   "execution_count": 105,
   "metadata": {},
   "outputs": [
    {
     "data": {
      "text/plain": [
       "(201917, 137)"
      ]
     },
     "execution_count": 105,
     "metadata": {},
     "output_type": "execute_result"
    }
   ],
   "source": [
    "train.shape"
   ]
  },
  {
   "cell_type": "code",
   "execution_count": 115,
   "metadata": {},
   "outputs": [
    {
     "data": {
      "image/png": "[encoded data removed]",
      "text/plain": [
       "<Figure size 1008x1800 with 1 Axes>"
      ]
     },
     "metadata": {
      "needs_background": "light"
     },
     "output_type": "display_data"
    }
   ],
   "source": [
    "plt.figure(figsize=(14,25))\n",
    "sns.barplot(x='importance', y='feature', data= fold_importance_df.sort_values(by='importance', ascending=False))\n",
    "plt.title('LightGBM Features (avg over folds)')\n",
    "plt.tight_layout()\n",
    "plt.savefig('lgbm_importances.png')"
   ]
  },
  {
   "cell_type": "code",
   "execution_count": 121,
   "metadata": {},
   "outputs": [],
   "source": [
    "sub_df =pd.DataFrame({'card_id': test.card_id})\n",
    "sub_df['target'] = predictions\n",
    "sub_df.to_csv('light-gbm.csv', index=False)"
   ]
  },
  {
   "cell_type": "markdown",
   "metadata": {},
   "source": [
    "## Ridge "
   ]
  },
  {
   "cell_type": "code",
   "execution_count": 127,
   "metadata": {},
   "outputs": [],
   "source": [
    "model = Ridge(solver = \"lsqr\", fit_intercept=False)"
   ]
  },
  {
   "cell_type": "code",
   "execution_count": 150,
   "metadata": {},
   "outputs": [],
   "source": [
    "features = [c for c in train.columns if c not in ['card_id', 'first_active_month']]\n",
    "X_train = train[features]\n",
    "\n",
    "X_train.fillna(0.01, inplace=True)\n",
    "X_test.fillna(0.01, inplace=True)"
   ]
  },
  {
   "cell_type": "code",
   "execution_count": 171,
   "metadata": {},
   "outputs": [],
   "source": [
    "sc = StandardScaler()\n",
    "X_train = sc.fit_transform(X_train)\n",
    "X_test = sc.transform(X_test)"
   ]
  },
  {
   "cell_type": "code",
   "execution_count": 172,
   "metadata": {
    "scrolled": true
   },
   "outputs": [
    {
     "data": {
      "text/plain": [
       "Ridge(alpha=1.0, copy_X=True, fit_intercept=False, max_iter=None,\n",
       "   normalize=False, random_state=None, solver='lsqr', tol=0.001)"
      ]
     },
     "execution_count": 172,
     "metadata": {},
     "output_type": "execute_result"
    }
   ],
   "source": [
    "model.fit(X_train, target)"
   ]
  },
  {
   "cell_type": "code",
   "execution_count": 174,
   "metadata": {},
   "outputs": [],
   "source": [
    "preds = model.predict(X_test)"
   ]
  },
  {
   "cell_type": "code",
   "execution_count": 176,
   "metadata": {},
   "outputs": [],
   "source": [
    "sub_df =pd.DataFrame({'card_id': test.card_id})\n",
    "sub_df['target'] = preds\n",
    "sub_df.to_csv('Ridge_scaled.csv', index=False)"
   ]
  },
  {
   "cell_type": "markdown",
   "metadata": {},
   "source": [
    "## Neural Network "
   ]
  },
  {
   "cell_type": "code",
   "execution_count": 198,
   "metadata": {},
   "outputs": [],
   "source": [
    "from keras.layers import Dense, Activation, LeakyReLU\n",
    "from keras.models import Sequential\n",
    "from sklearn.model_selection import train_test_split"
   ]
  },
  {
   "cell_type": "code",
   "execution_count": 183,
   "metadata": {},
   "outputs": [],
   "source": [
    "X_trains, X_vals, y_trains, y_vals = train_test_split(X_train, target, test_size = 0.1, random_state = 0)"
   ]
  },
  {
   "cell_type": "code",
   "execution_count": 212,
   "metadata": {},
   "outputs": [],
   "source": [
    "model = Sequential()\n",
    "\n",
    "model.add(Dense(32, activation='tanh', input_dim=135))\n",
    "model.add(Dense(64, activation='tanh'))\n",
    "model.add(Dense(32, activation='sigmoid'))\n",
    "model.add(Dense(64, activation='sigmoid'))\n",
    "model.add(Dense(64, activation='relu'))\n",
    "model.add(Dense(1))\n",
    "\n",
    "model.compile(optimizer='adam', loss='mean_squared_error')"
   ]
  },
  {
   "cell_type": "code",
   "execution_count": 213,
   "metadata": {
    "scrolled": true
   },
   "outputs": [
    {
     "name": "stdout",
     "output_type": "stream",
     "text": [
      "Epoch 1/100\n",
      "181725/181725 [==============================] - 3s 15us/step - loss: 14.2969\n",
      "Epoch 2/100\n",
      "181725/181725 [==============================] - 2s 12us/step - loss: 13.9516\n",
      "Epoch 3/100\n",
      "181725/181725 [==============================] - 2s 12us/step - loss: 13.7618\n",
      "Epoch 4/100\n",
      "181725/181725 [==============================] - 2s 12us/step - loss: 13.6160\n",
      "Epoch 5/100\n",
      "181725/181725 [==============================] - 2s 12us/step - loss: 13.5270\n",
      "Epoch 6/100\n",
      "181725/181725 [==============================] - 2s 12us/step - loss: 13.4445\n",
      "Epoch 7/100\n",
      "181725/181725 [==============================] - 2s 12us/step - loss: 13.3473\n",
      "Epoch 8/100\n",
      "181725/181725 [==============================] - 2s 12us/step - loss: 13.2727\n",
      "Epoch 9/100\n",
      "181725/181725 [==============================] - 2s 12us/step - loss: 13.1710\n",
      "Epoch 10/100\n",
      "181725/181725 [==============================] - 2s 12us/step - loss: 13.1218\n",
      "Epoch 11/100\n",
      "181725/181725 [==============================] - 2s 12us/step - loss: 13.0187\n",
      "Epoch 12/100\n",
      "181725/181725 [==============================] - 2s 12us/step - loss: 12.9412\n",
      "Epoch 13/100\n",
      "181725/181725 [==============================] - 2s 12us/step - loss: 12.8610\n",
      "Epoch 14/100\n",
      "181725/181725 [==============================] - 2s 12us/step - loss: 12.7633\n",
      "Epoch 15/100\n",
      "181725/181725 [==============================] - 2s 12us/step - loss: 12.6710\n",
      "Epoch 16/100\n",
      "181725/181725 [==============================] - 2s 12us/step - loss: 12.5509\n",
      "Epoch 17/100\n",
      "181725/181725 [==============================] - 2s 12us/step - loss: 12.4800\n",
      "Epoch 18/100\n",
      "181725/181725 [==============================] - 2s 12us/step - loss: 12.4253\n",
      "Epoch 19/100\n",
      "181725/181725 [==============================] - 2s 12us/step - loss: 12.3766\n",
      "Epoch 20/100\n",
      "181725/181725 [==============================] - 2s 12us/step - loss: 12.2109\n",
      "Epoch 21/100\n",
      "181725/181725 [==============================] - 2s 12us/step - loss: 12.1695\n",
      "Epoch 22/100\n",
      "181725/181725 [==============================] - 2s 12us/step - loss: 12.0436\n",
      "Epoch 23/100\n",
      "181725/181725 [==============================] - 2s 12us/step - loss: 12.0505\n",
      "Epoch 24/100\n",
      "181725/181725 [==============================] - 2s 12us/step - loss: 11.9532\n",
      "Epoch 25/100\n",
      "181725/181725 [==============================] - 2s 12us/step - loss: 11.8953\n",
      "Epoch 26/100\n",
      "181725/181725 [==============================] - 2s 12us/step - loss: 11.7679\n",
      "Epoch 27/100\n",
      "181725/181725 [==============================] - 2s 12us/step - loss: 11.7539\n",
      "Epoch 28/100\n",
      "181725/181725 [==============================] - 2s 12us/step - loss: 11.6451\n",
      "Epoch 29/100\n",
      "181725/181725 [==============================] - 2s 12us/step - loss: 11.6183\n",
      "Epoch 30/100\n",
      "181725/181725 [==============================] - 2s 12us/step - loss: 11.5881\n",
      "Epoch 31/100\n",
      "181725/181725 [==============================] - 2s 12us/step - loss: 11.4795\n",
      "Epoch 32/100\n",
      "181725/181725 [==============================] - 2s 12us/step - loss: 11.4679\n",
      "Epoch 33/100\n",
      "181725/181725 [==============================] - 2s 12us/step - loss: 11.3250\n",
      "Epoch 34/100\n",
      "181725/181725 [==============================] - 2s 12us/step - loss: 11.3519\n",
      "Epoch 35/100\n",
      "181725/181725 [==============================] - 2s 12us/step - loss: 11.2887\n",
      "Epoch 36/100\n",
      "181725/181725 [==============================] - 2s 12us/step - loss: 11.2481\n",
      "Epoch 37/100\n",
      "181725/181725 [==============================] - 2s 12us/step - loss: 11.1638\n",
      "Epoch 38/100\n",
      "181725/181725 [==============================] - 2s 12us/step - loss: 11.1356\n",
      "Epoch 39/100\n",
      "181725/181725 [==============================] - 2s 12us/step - loss: 11.1295\n",
      "Epoch 40/100\n",
      "181725/181725 [==============================] - 2s 12us/step - loss: 11.0309\n",
      "Epoch 41/100\n",
      "181725/181725 [==============================] - 2s 12us/step - loss: 11.0416\n",
      "Epoch 42/100\n",
      "181725/181725 [==============================] - 2s 12us/step - loss: 11.0196\n",
      "Epoch 43/100\n",
      "181725/181725 [==============================] - 2s 13us/step - loss: 10.9409\n",
      "Epoch 44/100\n",
      "181725/181725 [==============================] - 2s 13us/step - loss: 10.9288\n",
      "Epoch 45/100\n",
      "181725/181725 [==============================] - 2s 12us/step - loss: 10.8763\n",
      "Epoch 46/100\n",
      "181725/181725 [==============================] - 2s 12us/step - loss: 10.8691\n",
      "Epoch 47/100\n",
      "181725/181725 [==============================] - 2s 12us/step - loss: 10.8347\n",
      "Epoch 48/100\n",
      "181725/181725 [==============================] - 2s 12us/step - loss: 10.8232\n",
      "Epoch 49/100\n",
      "181725/181725 [==============================] - 2s 12us/step - loss: 10.8211\n",
      "Epoch 50/100\n",
      "181725/181725 [==============================] - 2s 13us/step - loss: 10.8014\n",
      "Epoch 51/100\n",
      "181725/181725 [==============================] - 2s 13us/step - loss: 10.7545\n",
      "Epoch 52/100\n",
      "181725/181725 [==============================] - 2s 12us/step - loss: 10.6427\n",
      "Epoch 53/100\n",
      "181725/181725 [==============================] - 2s 13us/step - loss: 10.7225\n",
      "Epoch 54/100\n",
      "181725/181725 [==============================] - 2s 12us/step - loss: 10.6566\n",
      "Epoch 55/100\n",
      "181725/181725 [==============================] - 2s 11us/step - loss: 10.5715\n",
      "Epoch 56/100\n",
      "181725/181725 [==============================] - 2s 11us/step - loss: 10.5880\n",
      "Epoch 57/100\n",
      "181725/181725 [==============================] - 2s 13us/step - loss: 10.5590\n",
      "Epoch 58/100\n",
      "181725/181725 [==============================] - 2s 11us/step - loss: 10.5903\n",
      "Epoch 59/100\n",
      "181725/181725 [==============================] - 2s 11us/step - loss: 10.4797\n",
      "Epoch 60/100\n",
      "181725/181725 [==============================] - 2s 11us/step - loss: 10.4394\n",
      "Epoch 61/100\n",
      "181725/181725 [==============================] - 2s 11us/step - loss: 10.4356\n",
      "Epoch 62/100\n",
      "181725/181725 [==============================] - 2s 11us/step - loss: 10.4863\n",
      "Epoch 63/100\n",
      "181725/181725 [==============================] - 2s 11us/step - loss: 10.4134\n",
      "Epoch 64/100\n",
      "181725/181725 [==============================] - 2s 11us/step - loss: 10.3618\n",
      "Epoch 65/100\n",
      "181725/181725 [==============================] - 2s 11us/step - loss: 10.4645\n",
      "Epoch 66/100\n",
      "181725/181725 [==============================] - 2s 11us/step - loss: 10.3953\n",
      "Epoch 67/100\n",
      "181725/181725 [==============================] - 2s 11us/step - loss: 10.2964\n",
      "Epoch 68/100\n",
      "181725/181725 [==============================] - 2s 11us/step - loss: 10.4548\n",
      "Epoch 69/100\n",
      "181725/181725 [==============================] - 2s 11us/step - loss: 10.3795\n",
      "Epoch 70/100\n",
      "181725/181725 [==============================] - 2s 11us/step - loss: 10.3094\n",
      "Epoch 71/100\n",
      "181725/181725 [==============================] - 2s 11us/step - loss: 10.1811\n",
      "Epoch 72/100\n",
      "181725/181725 [==============================] - 2s 11us/step - loss: 10.2044\n",
      "Epoch 73/100\n",
      "181725/181725 [==============================] - 2s 11us/step - loss: 10.2930\n",
      "Epoch 74/100\n",
      "181725/181725 [==============================] - 2s 11us/step - loss: 10.2834\n",
      "Epoch 75/100\n",
      "181725/181725 [==============================] - 2s 11us/step - loss: 10.1972\n",
      "Epoch 76/100\n",
      "181725/181725 [==============================] - 2s 11us/step - loss: 10.1504\n",
      "Epoch 77/100\n",
      "181725/181725 [==============================] - 2s 11us/step - loss: 10.2419\n",
      "Epoch 78/100\n",
      "181725/181725 [==============================] - 2s 11us/step - loss: 10.1692\n",
      "Epoch 79/100\n",
      "181725/181725 [==============================] - 2s 11us/step - loss: 10.1635\n",
      "Epoch 80/100\n",
      "181725/181725 [==============================] - 2s 11us/step - loss: 10.1439\n",
      "Epoch 81/100\n",
      "181725/181725 [==============================] - 2s 11us/step - loss: 10.1242\n",
      "Epoch 82/100\n",
      "181725/181725 [==============================] - 2s 11us/step - loss: 10.1139\n",
      "Epoch 83/100\n",
      "181725/181725 [==============================] - 2s 12us/step - loss: 10.1063\n",
      "Epoch 84/100\n",
      "181725/181725 [==============================] - 2s 12us/step - loss: 10.1520\n",
      "Epoch 85/100\n",
      "181725/181725 [==============================] - 2s 13us/step - loss: 10.1518\n",
      "Epoch 86/100\n",
      "181725/181725 [==============================] - 2s 13us/step - loss: 10.1332\n",
      "Epoch 87/100\n",
      "181725/181725 [==============================] - 2s 13us/step - loss: 9.9889\n",
      "Epoch 88/100\n",
      "181725/181725 [==============================] - 2s 14us/step - loss: 10.0423\n",
      "Epoch 89/100\n",
      "181725/181725 [==============================] - 2s 13us/step - loss: 10.0314\n",
      "Epoch 90/100\n",
      "181725/181725 [==============================] - 2s 12us/step - loss: 9.9076\n",
      "Epoch 91/100\n",
      "181725/181725 [==============================] - 2s 12us/step - loss: 9.9389\n",
      "Epoch 92/100\n",
      "181725/181725 [==============================] - 2s 12us/step - loss: 9.9085\n",
      "Epoch 93/100\n",
      "181725/181725 [==============================] - 2s 12us/step - loss: 9.9662\n",
      "Epoch 94/100\n",
      "181725/181725 [==============================] - 2s 12us/step - loss: 9.9333\n",
      "Epoch 95/100\n",
      "181725/181725 [==============================] - 2s 12us/step - loss: 9.9075\n",
      "Epoch 96/100\n",
      "181725/181725 [==============================] - 2s 12us/step - loss: 9.9529\n",
      "Epoch 97/100\n",
      "181725/181725 [==============================] - 2s 12us/step - loss: 9.7792\n",
      "Epoch 98/100\n",
      "181725/181725 [==============================] - 2s 12us/step - loss: 9.8890\n",
      "Epoch 99/100\n",
      "181725/181725 [==============================] - 2s 12us/step - loss: 9.7633\n",
      "Epoch 100/100\n",
      "181725/181725 [==============================] - 2s 12us/step - loss: 9.8626\n"
     ]
    },
    {
     "data": {
      "text/plain": [
       "<keras.callbacks.History at 0x1300bfa0d68>"
      ]
     },
     "execution_count": 213,
     "metadata": {},
     "output_type": "execute_result"
    }
   ],
   "source": [
    "model.fit(X_trains, y_trains, batch_size=100, epochs=100)"
   ]
  },
  {
   "cell_type": "code",
   "execution_count": 214,
   "metadata": {},
   "outputs": [],
   "source": [
    "preds_nn = model.predict(X_vals)"
   ]
  },
  {
   "cell_type": "code",
   "execution_count": 215,
   "metadata": {
    "scrolled": true
   },
   "outputs": [
    {
     "name": "stdout",
     "output_type": "stream",
     "text": [
      "CV score: 3.92672 \n"
     ]
    }
   ],
   "source": [
    "print(\"CV score: {:<8.5f}\".format(mean_squared_error(preds_nn, y_vals)**0.5))"
   ]
  }
 ],
 "metadata": {
  "kernelspec": {
   "display_name": "Python 3",
   "language": "python",
   "name": "python3"
  },
  "language_info": {
   "codemirror_mode": {
    "name": "ipython",
    "version": 3
   },
   "file_extension": ".py",
   "mimetype": "text/x-python",
   "name": "python",
   "nbconvert_exporter": "python",
   "pygments_lexer": "ipython3",
   "version": "3.7.2"
  }
 },
 "nbformat": 4,
 "nbformat_minor": 2
}
